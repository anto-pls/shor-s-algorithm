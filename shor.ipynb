{
 "cells": [
  {
   "cell_type": "code",
   "execution_count": 1,
   "metadata": {
    "colab": {
     "base_uri": "https://localhost:8080/"
    },
    "id": "1_CAA21FG37I",
    "outputId": "d98c47c7-b6cf-487b-dd94-26661e556025"
   },
   "outputs": [
    {
     "name": "stdout",
     "output_type": "stream",
     "text": [
      "Collecting qiskit\n",
      "  Downloading qiskit-1.3.1-cp39-abi3-manylinux_2_17_x86_64.manylinux2014_x86_64.whl.metadata (12 kB)\n",
      "Collecting rustworkx>=0.15.0 (from qiskit)\n",
      "  Downloading rustworkx-0.15.1-cp38-abi3-manylinux_2_17_x86_64.manylinux2014_x86_64.whl.metadata (9.9 kB)\n",
      "Requirement already satisfied: numpy<3,>=1.17 in /usr/local/lib/python3.10/dist-packages (from qiskit) (1.26.4)\n",
      "Requirement already satisfied: scipy>=1.5 in /usr/local/lib/python3.10/dist-packages (from qiskit) (1.13.1)\n",
      "Requirement already satisfied: sympy>=1.3 in /usr/local/lib/python3.10/dist-packages (from qiskit) (1.13.1)\n",
      "Collecting dill>=0.3 (from qiskit)\n",
      "  Downloading dill-0.3.9-py3-none-any.whl.metadata (10 kB)\n",
      "Requirement already satisfied: python-dateutil>=2.8.0 in /usr/local/lib/python3.10/dist-packages (from qiskit) (2.8.2)\n",
      "Collecting stevedore>=3.0.0 (from qiskit)\n",
      "  Downloading stevedore-5.4.0-py3-none-any.whl.metadata (2.3 kB)\n",
      "Requirement already satisfied: typing-extensions in /usr/local/lib/python3.10/dist-packages (from qiskit) (4.12.2)\n",
      "Collecting symengine<0.14,>=0.11 (from qiskit)\n",
      "  Downloading symengine-0.13.0-cp310-cp310-manylinux_2_17_x86_64.manylinux2014_x86_64.whl.metadata (1.2 kB)\n",
      "Requirement already satisfied: six>=1.5 in /usr/local/lib/python3.10/dist-packages (from python-dateutil>=2.8.0->qiskit) (1.17.0)\n",
      "Collecting pbr>=2.0.0 (from stevedore>=3.0.0->qiskit)\n",
      "  Downloading pbr-6.1.0-py2.py3-none-any.whl.metadata (3.4 kB)\n",
      "Requirement already satisfied: mpmath<1.4,>=1.1.0 in /usr/local/lib/python3.10/dist-packages (from sympy>=1.3->qiskit) (1.3.0)\n",
      "Downloading qiskit-1.3.1-cp39-abi3-manylinux_2_17_x86_64.manylinux2014_x86_64.whl (6.7 MB)\n",
      "\u001b[2K   \u001b[90m━━━━━━━━━━━━━━━━━━━━━━━━━━━━━━━━━━━━━━━━\u001b[0m \u001b[32m6.7/6.7 MB\u001b[0m \u001b[31m33.3 MB/s\u001b[0m eta \u001b[36m0:00:00\u001b[0m\n",
      "\u001b[?25hDownloading dill-0.3.9-py3-none-any.whl (119 kB)\n",
      "\u001b[2K   \u001b[90m━━━━━━━━━━━━━━━━━━━━━━━━━━━━━━━━━━━━━━━━\u001b[0m \u001b[32m119.4/119.4 kB\u001b[0m \u001b[31m6.8 MB/s\u001b[0m eta \u001b[36m0:00:00\u001b[0m\n",
      "\u001b[?25hDownloading rustworkx-0.15.1-cp38-abi3-manylinux_2_17_x86_64.manylinux2014_x86_64.whl (2.0 MB)\n",
      "\u001b[2K   \u001b[90m━━━━━━━━━━━━━━━━━━━━━━━━━━━━━━━━━━━━━━━━\u001b[0m \u001b[32m2.0/2.0 MB\u001b[0m \u001b[31m28.7 MB/s\u001b[0m eta \u001b[36m0:00:00\u001b[0m\n",
      "\u001b[?25hDownloading stevedore-5.4.0-py3-none-any.whl (49 kB)\n",
      "\u001b[2K   \u001b[90m━━━━━━━━━━━━━━━━━━━━━━━━━━━━━━━━━━━━━━━━\u001b[0m \u001b[32m49.5/49.5 kB\u001b[0m \u001b[31m3.0 MB/s\u001b[0m eta \u001b[36m0:00:00\u001b[0m\n",
      "\u001b[?25hDownloading symengine-0.13.0-cp310-cp310-manylinux_2_17_x86_64.manylinux2014_x86_64.whl (49.7 MB)\n",
      "\u001b[2K   \u001b[90m━━━━━━━━━━━━━━━━━━━━━━━━━━━━━━━━━━━━━━━━\u001b[0m \u001b[32m49.7/49.7 MB\u001b[0m \u001b[31m7.1 MB/s\u001b[0m eta \u001b[36m0:00:00\u001b[0m\n",
      "\u001b[?25hDownloading pbr-6.1.0-py2.py3-none-any.whl (108 kB)\n",
      "\u001b[2K   \u001b[90m━━━━━━━━━━━━━━━━━━━━━━━━━━━━━━━━━━━━━━━━\u001b[0m \u001b[32m108.5/108.5 kB\u001b[0m \u001b[31m6.2 MB/s\u001b[0m eta \u001b[36m0:00:00\u001b[0m\n",
      "\u001b[?25hInstalling collected packages: symengine, rustworkx, pbr, dill, stevedore, qiskit\n",
      "Successfully installed dill-0.3.9 pbr-6.1.0 qiskit-1.3.1 rustworkx-0.15.1 stevedore-5.4.0 symengine-0.13.0\n"
     ]
    }
   ],
   "source": [
    "!pip install qiskit"
   ]
  },
  {
   "cell_type": "code",
   "execution_count": null,
   "metadata": {
    "id": "2UdWj3u5G7Q-"
   },
   "outputs": [],
   "source": [
    "from qiskit import QuantumCircuit, transpile, assemble, Aer, execute\n",
    "from qiskit.visualization import plot_histogram\n",
    "from qiskit.providers.ibmq import least_busy\n",
    "from qiskit.tools.monitor import job_monitor\n",
    "from qiskit.circuit.library import QFT\n",
    "from qiskit.extensions import UnitaryGate\n",
    "from qiskit import QuantumCircuit\n",
    "from qiskit.visualization import circuit_drawer\n",
    "import numpy as np\n",
    "import time\n",
    "import random\n",
    "\n",
    "circ =  0\n",
    "from qiskit.circuit.library import QFT\n",
    "from qiskit.extensions import UnitaryGate\n",
    "\n",
    "def qft(n):\n",
    "    qc = QuantumCircuit(n)\n",
    "    qc.append(QFT(n, do_swaps=False, inverse=True), range(n))\n",
    "    return qc\n",
    "\n",
    "def c_amod15(a, power):\n",
    "    #if a not in [2, 7, 8, 11, 13]:\n",
    "     #   raise ValueError(\"'a' must be 2, 7, 8, 11, or 13\")\n",
    "    U = QuantumCircuit(4)\n",
    "    for iteration in range(power):\n",
    "        if a in [2, 13]:\n",
    "            U.swap(0, 1)\n",
    "            U.swap(1, 2)\n",
    "            U.swap(2, 3)\n",
    "        if a in [7, 8]:\n",
    "            U.swap(2, 3)\n",
    "            U.swap(1, 2)\n",
    "            U.swap(0, 1)\n",
    "        if a == 11:\n",
    "            U.swap(1, 3)\n",
    "            U.swap(0, 2)\n",
    "        if a in [7, 11, 13]:\n",
    "            for q in range(4):\n",
    "                U.x(q)\n",
    "    U = U.to_gate()\n",
    "    U.name = \"%i^%i mod\" % (a, power)\n",
    "    c_U = U.control()\n",
    "    return c_U\n",
    "\n",
    "def shor_algorithm(N, a):\n",
    "    #Initialize qubits\n",
    "    n = 8 #Number of qubits\n",
    "    n_ancilla = 4 #Number of ancilla qubits\n",
    "    qc = QuantumCircuit(n + n_ancilla, n)\n",
    "\n",
    "    #Hadamard gates\n",
    "    qc.h(range(n))\n",
    "\n",
    "    #modular exponentiation\n",
    "    for q in range(n):\n",
    "        qc.append(c_amod15(a, 2**q),\n",
    "                  [q] + list(range(n, n + n_ancilla)))\n",
    "\n",
    "    #Inverse Fourier transform\n",
    "    qc.append(qft(n).inverse(), range(n))\n",
    "\n",
    "    #Measure the first n qubits\n",
    "    qc.measure(range(n), range(n))\n",
    "\n",
    "    #Run the circuit on a quantum simulator\n",
    "    backend = Aer.get_backend('qasm_simulator')\n",
    "    job = execute(qc, backend, shots=2000)\n",
    "    result = job.result()\n",
    "\n",
    "    #classical post-processing\n",
    "    counts = result.get_counts()\n",
    "    fractions = {}\n",
    "    for output in counts:\n",
    "        binary = output[::-1]\n",
    "        fraction = int(binary, 2) / (2 ** n)\n",
    "        fractions[binary] = fractions.get(binary, 0) + counts[output] / 1024\n",
    "\n",
    "    #Find the period r\n",
    "    probabilities = list(fractions.values())\n",
    "    measured_states = list(fractions.keys())\n",
    "    phase_estimate = measured_states[np.argmax(probabilities)]\n",
    "    r = int(phase_estimate, 2)\n",
    "    #print(r)\n",
    "\n",
    "    #Find the factors using the period\n",
    "    if r % 2 != 0:\n",
    "        print(\"Failed to find factors. Try again with a different 'a'.\")\n",
    "    else:\n",
    "        x = int((a ** (r / 2)) % N)\n",
    "        if (x + 1) % N == 0:\n",
    "            print(\"Failed to find factors. Try again with a different 'a'.\")\n",
    "        else:\n",
    "            factors = np.gcd(x + 1, N), np.gcd(x - 1, N)\n",
    "            return factors\n",
    "    #qc.draw(output='mpl')"
   ]
  },
  {
   "cell_type": "code",
   "execution_count": null,
   "metadata": {
    "id": "ByHrqm3HG-qM"
   },
   "outputs": [],
   "source": [
    "def classical_trial_division(n):\n",
    "    factors = []\n",
    "    for i in range(2, int(n**0.5) + 1):\n",
    "        while n % i == 0:\n",
    "            factors.append(i)\n",
    "            n = n / i\n",
    "    if n > 1:\n",
    "        factors.append(int(n))\n",
    "    return factors"
   ]
  },
  {
   "cell_type": "code",
   "execution_count": null,
   "metadata": {
    "colab": {
     "base_uri": "https://localhost:8080/"
    },
    "id": "o3QkK8D7G_N-",
    "outputId": "07e45457-f105-42cf-c1da-e9dec8f630df"
   },
   "outputs": [
    {
     "name": "stdout",
     "output_type": "stream",
     "text": [
      "Factors using Shor's algorithm: (7, 5)\n",
      "Time taken by Shor's algorithm: 1.7623755931854248 seconds\n",
      "Factors using classical trial division: [5, 7]\n",
      "Time taken by classical trial division: 7.033348083496094e-05 seconds\n"
     ]
    }
   ],
   "source": [
    "N = 35\n",
    "a = 11 #random.randint(2, N-1)\n",
    "start_time = time.time()\n",
    "factors = shor_algorithm(N, a)\n",
    "shor_time = time.time() - start_time\n",
    "\n",
    "start_time = time.time()\n",
    "classical_factors = classical_trial_division(N)\n",
    "classical_time = time.time() - start_time\n",
    "\n",
    "print(\"Factors using Shor's algorithm:\", factors)\n",
    "print(\"Time taken by Shor's algorithm:\", shor_time, \"seconds\")\n",
    "print(\"Factors using classical trial division:\", classical_factors)\n",
    "print(\"Time taken by classical trial division:\", classical_time, \"seconds\")"
   ]
  },
  {
   "cell_type": "code",
   "execution_count": null,
   "metadata": {
    "id": "fzgdRT1mHAof"
   },
   "outputs": [],
   "source": []
  }
 ],
 "metadata": {
  "colab": {
   "provenance": []
  },
  "kernelspec": {
   "display_name": "Python 3",
   "name": "python3"
  },
  "language_info": {
   "name": "python"
  }
 },
 "nbformat": 4,
 "nbformat_minor": 0
}
